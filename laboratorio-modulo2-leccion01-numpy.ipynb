{
 "cells": [
  {
   "cell_type": "markdown",
   "id": "6db588db",
   "metadata": {},
   "source": [
    "<div style=\"text-align: center;\">\n",
    "  <img src=\"https://github.com/Hack-io-Data/Imagenes/blob/main/01-LogosHackio/logo_naranja@4x.png?raw=true\" alt=\"esquema\" />\n",
    "</div>"
   ]
  },
  {
   "cell_type": "markdown",
   "id": "11308d6c",
   "metadata": {},
   "source": [
    "\n",
    "# Laboratorio de NumPy"
   ]
  },
  {
   "cell_type": "markdown",
   "id": "a19d4596",
   "metadata": {},
   "source": [
    "#### Ejercicio 1 - Crea un array de 1D con los números del 0 al 9."
   ]
  },
  {
   "cell_type": "code",
   "execution_count": 4,
   "id": "9d4e1d42",
   "metadata": {},
   "outputs": [
    {
     "data": {
      "text/plain": [
       "[0, 1, 2, 3, 4, 5, 6, 7, 8, 9]"
      ]
     },
     "execution_count": 4,
     "metadata": {},
     "output_type": "execute_result"
    }
   ],
   "source": [
    "import numpy as np\n",
    "array1al9 = [0,1,2,3,4,5,6,7,8,9]\n",
    "array1al9"
   ]
  },
  {
   "cell_type": "markdown",
   "id": "f4a41f16",
   "metadata": {},
   "source": [
    "#### Ejercicio 2 - Convierte un array 1D en un array 2D con 2 filas y 5 columnas."
   ]
  },
  {
   "cell_type": "code",
   "execution_count": 5,
   "id": "3d7cef3c",
   "metadata": {},
   "outputs": [
    {
     "data": {
      "text/plain": [
       "array([[0, 1, 2, 3, 4],\n",
       "       [5, 6, 7, 8, 9]])"
      ]
     },
     "execution_count": 5,
     "metadata": {},
     "output_type": "execute_result"
    }
   ],
   "source": [
    "np.reshape(array1al9, (2,5))"
   ]
  },
  {
   "cell_type": "markdown",
   "id": "86bb8999",
   "metadata": {},
   "source": [
    "#### Ejercicio 3 - Encuentra los índices de los elementos con valor distinto de 0 en el siguiente array: [0, 2, 0, 3, 0, 4, 0]."
   ]
  },
  {
   "cell_type": "code",
   "execution_count": 25,
   "id": "d1fcfca4",
   "metadata": {},
   "outputs": [
    {
     "data": {
      "text/plain": [
       "(array([1, 3, 5]),)"
      ]
     },
     "execution_count": 25,
     "metadata": {},
     "output_type": "execute_result"
    }
   ],
   "source": [
    "ej3 = np.array([0, 2, 0, 3, 0, 4, 0])\n",
    "ind = np.where(ej3!=0)\n",
    "ind"
   ]
  },
  {
   "cell_type": "markdown",
   "id": "1c548419",
   "metadata": {},
   "source": [
    "#### Ejercicio 4 - Crea un array 3x3 con valores aleatorios entre 0 y 1."
   ]
  },
  {
   "cell_type": "code",
   "execution_count": 28,
   "id": "e1d4f19f",
   "metadata": {},
   "outputs": [
    {
     "data": {
      "text/plain": [
       "array([[1, 0, 0],\n",
       "       [0, 1, 0],\n",
       "       [1, 1, 0]], dtype=int32)"
      ]
     },
     "execution_count": 28,
     "metadata": {},
     "output_type": "execute_result"
    }
   ],
   "source": [
    "array0y1 = np.random.randint(0,2, (3,3))\n",
    "array0y1"
   ]
  },
  {
   "cell_type": "markdown",
   "id": "aee82811",
   "metadata": {},
   "source": [
    "#### Ejercicio 5 - Crea un array de 10 números aleatorios y encuentra el valor máximo y mínimo."
   ]
  },
  {
   "cell_type": "code",
   "execution_count": 35,
   "id": "81fea76e",
   "metadata": {},
   "outputs": [
    {
     "name": "stdout",
     "output_type": "stream",
     "text": [
      "Nues tro aray: [475 257 419 410 339  11 400 114 209 176]\n",
      "El máximo es: 475\n",
      "El minimo es: 11\n"
     ]
    }
   ],
   "source": [
    "array_aleatorio = np.random.randint(0, 500, 10)\n",
    "print(f'Nues tro aray: {array_aleatorio}')\n",
    "max = np.max(array_aleatorio)\n",
    "min = np.min(array_aleatorio)\n",
    "print(f'El máximo es: {max}')\n",
    "print(f'El minimo es: {min}')"
   ]
  },
  {
   "cell_type": "markdown",
   "id": "6559375b",
   "metadata": {},
   "source": [
    "#### Ejercicio 6 - Crea un array de una dimensión e inviértelo. "
   ]
  },
  {
   "cell_type": "code",
   "execution_count": 41,
   "id": "31385db0",
   "metadata": {},
   "outputs": [
    {
     "name": "stdout",
     "output_type": "stream",
     "text": [
      "El vestor es: [6 2 4]\n",
      "El vector traspuesto es: [4 2 6]\n"
     ]
    }
   ],
   "source": [
    "ej6 = np.random.randint(0,10,3)\n",
    "print(f'El vestor es: {ej6}')\n",
    "tr = ej6[::-1]\n",
    "print(f'El vector traspuesto es: {tr}')"
   ]
  },
  {
   "cell_type": "markdown",
   "id": "4457f046",
   "metadata": {},
   "source": [
    "\n",
    "#### Ejercicio 6 - Genera un array tridimensional de dimensiones (2, 3, 4) con valores enteros del 1 al 24.\n",
    "\n",
    "- Selecciona el primer `15` del array.\n",
    "\n",
    "- Selecciona todos los elementos del primer array. \n",
    "\n",
    "- Selecciona la última fila del último array\n"
   ]
  },
  {
   "cell_type": "code",
   "execution_count": 67,
   "id": "3cab04c9",
   "metadata": {},
   "outputs": [
    {
     "name": "stdout",
     "output_type": "stream",
     "text": [
      "[[[15  3  3  1]\n",
      "  [11 13 20  1]\n",
      "  [ 6 16 21  1]]\n",
      "\n",
      " [[18 24  8 20]\n",
      "  [15  1 10 21]\n",
      "  [ 7 13 15 13]]]\n",
      "15\n"
     ]
    }
   ],
   "source": [
    "array_tri = np.random.randint(1, 25, (2,3,4))\n",
    "print(array_tri)\n",
    "\n",
    "try:\n",
    "    print(array_tri[array_tri==15][0])\n",
    "except:\n",
    "    print(\"No hay ningún 15 en el array\")"
   ]
  },
  {
   "cell_type": "code",
   "execution_count": 71,
   "id": "42c094db",
   "metadata": {},
   "outputs": [
    {
     "name": "stdout",
     "output_type": "stream",
     "text": [
      "[15  3  3  1]\n",
      "[ 7 13 15 13]\n"
     ]
    }
   ],
   "source": [
    "print(array_tri[0,0,:]) #primera fila\n",
    "print(array_tri[-1,-1,:]) #última fila"
   ]
  },
  {
   "cell_type": "markdown",
   "id": "681b7e4e",
   "metadata": {},
   "source": [
    "\n",
    "#### Ejercicio 7 - Genera un array tridimensional de dimensiones (3, 2, 5) con valores enteros del 1 al 30.\n",
    "\n",
    "- Selecciona el subarray que contiene los dos primeros elementos de cada fila del primer array.\n",
    "\n",
    "- Selecciona el subarray que contiene todas las filas de los dos últimos arrays.\n"
   ]
  },
  {
   "cell_type": "code",
   "execution_count": 78,
   "id": "b008a9aa",
   "metadata": {},
   "outputs": [
    {
     "name": "stdout",
     "output_type": "stream",
     "text": [
      "[[[ 3  4 24  7 16]\n",
      "  [10 22  3  8 17]]\n",
      "\n",
      " [[24 28 29 14 11]\n",
      "  [30  2 29  4 21]]\n",
      "\n",
      " [[23 12  7 10 22]\n",
      "  [ 1 26 28 16 21]]]\n",
      "\n",
      "Los dos primeros elementos de cada fila del primer array:\n",
      "[[ 3  4]\n",
      " [10 22]]\n",
      "\n",
      "Todas las filas de los dos últimos arrays:\n",
      "[[[24 28 29 14 11]\n",
      "  [30  2 29  4 21]]\n",
      "\n",
      " [[23 12  7 10 22]\n",
      "  [ 1 26 28 16 21]]]\n"
     ]
    }
   ],
   "source": [
    "array_ej7 = np.random.randint(1,31,(3,2,5))\n",
    "print(array_ej7)\n",
    "print(\"\\nLos dos primeros elementos de cada fila del primer array:\")\n",
    "print(f'{array_ej7[0,:, :2]}')\n",
    "print(\"\\nTodas las filas de los dos últimos arrays:\")\n",
    "print(f'{array_ej7[1:,:]}')"
   ]
  },
  {
   "cell_type": "markdown",
   "id": "4fabd9d0",
   "metadata": {},
   "source": [
    "#### Ejercicio 8 - Genera un array tridimensional de dimensiones (4, 3, 2) con valores enteros del 1 al 24.\n",
    "\n",
    "- Cambia todos los elementos de la segunda fila del segundo array por `0`.\n",
    "\n",
    "- Cambia todos los valores del último array a `-1`.\n"
   ]
  },
  {
   "cell_type": "code",
   "execution_count": 79,
   "id": "0ef45b69",
   "metadata": {},
   "outputs": [
    {
     "name": "stdout",
     "output_type": "stream",
     "text": [
      "[[[ 9  6]\n",
      "  [ 5 11]\n",
      "  [12 22]]\n",
      "\n",
      " [[ 3  7]\n",
      "  [16  3]\n",
      "  [18 19]]\n",
      "\n",
      " [[ 7  8]\n",
      "  [18  8]\n",
      "  [17 20]]\n",
      "\n",
      " [[ 7 20]\n",
      "  [ 4  2]\n",
      "  [22 24]]]\n"
     ]
    }
   ],
   "source": [
    "array_ej8 = np.random.randint(1,25,(4,3,2))\n",
    "print(array_ej8)"
   ]
  },
  {
   "cell_type": "code",
   "execution_count": 82,
   "id": "807e8132",
   "metadata": {},
   "outputs": [
    {
     "data": {
      "text/plain": [
       "array([[[ 9,  6],\n",
       "        [ 5, 11],\n",
       "        [12, 22]],\n",
       "\n",
       "       [[ 3,  7],\n",
       "        [ 0,  0],\n",
       "        [18, 19]],\n",
       "\n",
       "       [[ 7,  8],\n",
       "        [18,  8],\n",
       "        [17, 20]],\n",
       "\n",
       "       [[-1, -1],\n",
       "        [-1, -1],\n",
       "        [-1, -1]]], dtype=int32)"
      ]
     },
     "execution_count": 82,
     "metadata": {},
     "output_type": "execute_result"
    }
   ],
   "source": [
    "array_ej8[1,1]=0\n",
    "array_ej8[-1]=-1\n",
    "array_ej8"
   ]
  },
  {
   "cell_type": "markdown",
   "id": "c60bc3bb",
   "metadata": {},
   "source": [
    "\n",
    "#### Ejercicio 9 - Genera un array tridimensional de dimensiones (2, 4, 3) con valores enteros del -10 al 13.\n",
    "\n",
    "- Selecciona todos los elementos mayores a `5`.\n",
    "\n",
    "- Reemplaza todos los elementos negativos por `0`.\n"
   ]
  },
  {
   "cell_type": "code",
   "execution_count": 90,
   "id": "28bf9232",
   "metadata": {},
   "outputs": [
    {
     "name": "stdout",
     "output_type": "stream",
     "text": [
      "[[[ 11 -10  -9]\n",
      "  [ -2   6  -5]\n",
      "  [ -3   7 -10]\n",
      "  [  0  10   6]]\n",
      "\n",
      " [[ -2   9  -8]\n",
      "  [ -2   0   3]\n",
      "  [  8  -8   9]\n",
      "  [ 11  12   7]]]\n",
      "Elementos mayores a 5: [11  6  7 10  6  9  8  9 11 12  7]\n",
      "\n",
      "[[[11  0  0]\n",
      "  [ 0  6  0]\n",
      "  [ 0  7  0]\n",
      "  [ 0 10  6]]\n",
      "\n",
      " [[ 0  9  0]\n",
      "  [ 0  0  3]\n",
      "  [ 8  0  9]\n",
      "  [11 12  7]]]\n"
     ]
    }
   ],
   "source": [
    "array_ej9 = np.random.randint(-10, 13,(2,4,3))\n",
    "print(array_ej9)\n",
    "elem_mayor_5 = array_ej9[array_ej9>5]\n",
    "\n",
    "print(f'Elementos mayores a 5: {elem_mayor_5}')\n",
    "\n",
    "array_ej9[array_ej9<0]=0\n",
    "print(f'\\n{array_ej9}')"
   ]
  },
  {
   "cell_type": "markdown",
   "id": "ab38a3be",
   "metadata": {},
   "source": [
    "#### Ejercicio 10 - Genera un array tridimensional de dimensiones (3, 3, 3) con valores enteros del 1 al 27.\n",
    "\n",
    "- Selecciona el subarray del segundo array que contenga solo las dos primeras columnas.\n",
    "\n",
    "- Selecciona todos los elementos del tercer array que sean mayores que `20`.\n"
   ]
  },
  {
   "cell_type": "code",
   "execution_count": 99,
   "id": "78c979cf",
   "metadata": {},
   "outputs": [
    {
     "name": "stdout",
     "output_type": "stream",
     "text": [
      "[[[16 26  6]\n",
      "  [14 23 12]\n",
      "  [ 4 17  7]]\n",
      "\n",
      " [[27  4 14]\n",
      "  [27 23  4]\n",
      "  [22  6 14]]\n",
      "\n",
      " [[11 25 19]\n",
      "  [11 23  7]\n",
      "  [19  7 23]]]\n",
      "\n",
      " Subarray del segundo array que contenga solo las dos primeras columnas\n",
      "[[27  4]\n",
      " [27 23]\n",
      " [22  6]]\n",
      "\n",
      "Elementos del tercer array que sean mayores que 20:\n",
      "[25 23 23]\n"
     ]
    }
   ],
   "source": [
    "array_ej10 = np.random.randint(1,28,(3,3,3))\n",
    "print(array_ej10)\n",
    "\n",
    "print(\"\\n Subarray del segundo array que contenga solo las dos primeras columnas\")\n",
    "print(array_ej10[1, :, :2])\n",
    "\n",
    "array_aux = array_ej10[2]\n",
    "print(\"\\nElementos del tercer array que sean mayores que 20:\")\n",
    "elem = array_aux[array_aux>20]\n",
    "print(elem)"
   ]
  },
  {
   "cell_type": "markdown",
   "id": "f1a00156",
   "metadata": {},
   "source": [
    "#### Ejercicio 11 - Crea un array de 10 números aleatorios y reemplaza los valores máximos y mínimos por 0."
   ]
  },
  {
   "cell_type": "code",
   "execution_count": 109,
   "id": "990fa526",
   "metadata": {},
   "outputs": [
    {
     "name": "stdout",
     "output_type": "stream",
     "text": [
      "[12 17  8 20 17 19  2 20  8  7]\n",
      "Máximo: 20\n",
      "Mínimo: 2\n",
      "[12 17  8  0 17 19  0  0  8  7]\n"
     ]
    }
   ],
   "source": [
    "array_ej11 = np.random.randint(1,21, 10)\n",
    "print(array_ej11)\n",
    "\n",
    "max=np.max(array_ej11)\n",
    "min=np.min(array_ej11)\n",
    "print(f'Máximo: {max}')\n",
    "print(f'Mínimo: {min}')\n",
    "\n",
    "array_ej11[array_ej11==max]=0\n",
    "array_ej11[array_ej11==min]=0\n",
    "print(array_ej11)"
   ]
  },
  {
   "cell_type": "markdown",
   "id": "781fafd0",
   "metadata": {},
   "source": [
    "#### Ejercicio 12 - Genera un array de 15 números aleatorios enteros entre 1 y 100 y reordénalo en orden ascendente."
   ]
  },
  {
   "cell_type": "code",
   "execution_count": 114,
   "id": "caa4fd47",
   "metadata": {},
   "outputs": [
    {
     "name": "stdout",
     "output_type": "stream",
     "text": [
      "Original:[ 70  63  65  66  22  73  71  28  77  19  65  52 100  63  61]\n",
      "Ordenado: [ 19  22  28  52  61  63  63  65  65  66  70  71  73  77 100]\n"
     ]
    }
   ],
   "source": [
    "array_ej12 = np.random.randint(1,101, 15)\n",
    "print(f'Original:{array_ej12}')\n",
    "print(f'Ordenado: {np.sort(array_ej12)}')"
   ]
  },
  {
   "cell_type": "markdown",
   "id": "45f10c3e",
   "metadata": {},
   "source": [
    "#### Ejercicio 11 - Calcula la suma de los elementos a lo largo de las filas y columnas en una matriz 4x4."
   ]
  },
  {
   "cell_type": "code",
   "execution_count": 119,
   "id": "90220788",
   "metadata": {},
   "outputs": [
    {
     "name": "stdout",
     "output_type": "stream",
     "text": [
      "[[5 9 4 1]\n",
      " [4 4 5 7]\n",
      " [4 1 6 8]\n",
      " [9 1 7 1]]\n",
      "La suma de las columnas es : [22 15 22 17]\n",
      "La suma de las filas es : [19 20 19 18]\n"
     ]
    }
   ],
   "source": [
    "array_ej11_2 = np.random.randint(1,10,(4,4))\n",
    "print(array_ej11_2)\n",
    "suma_columnas = np.sum(array_ej11_2, axis =0)\n",
    "suma_filas = np.sum(array_ej11_2, axis =1)\n",
    "print(f'La suma de las columnas es : {suma_columnas}')\n",
    "print(f'La suma de las filas es : {suma_filas}')"
   ]
  },
  {
   "cell_type": "markdown",
   "id": "69b9751a",
   "metadata": {},
   "source": [
    "#### Ejercicio 12 - Crea una matriz de 5x5 con valores en el borde igual a 1 y en el interior igual a 0."
   ]
  },
  {
   "cell_type": "code",
   "execution_count": 132,
   "id": "eca81323",
   "metadata": {},
   "outputs": [
    {
     "data": {
      "text/plain": [
       "array([[1, 1, 1, 1, 1],\n",
       "       [1, 0, 0, 0, 1],\n",
       "       [1, 0, 0, 0, 1],\n",
       "       [1, 0, 0, 0, 1],\n",
       "       [1, 1, 1, 1, 1]])"
      ]
     },
     "execution_count": 132,
     "metadata": {},
     "output_type": "execute_result"
    }
   ],
   "source": [
    "array_12 = np.zeros((5,5), dtype=int)\n",
    "array_12[0]=1\n",
    "array_12[-1]=1\n",
    "array_12[:,0]=1\n",
    "array_12[:,-1]=1\n",
    "array_12"
   ]
  },
  {
   "cell_type": "markdown",
   "id": "1ea8068d",
   "metadata": {},
   "source": [
    "#### Ejercicio 13 - Calcula la media y la desviación estándar de un array de 10 números aleatorios."
   ]
  },
  {
   "cell_type": "code",
   "execution_count": 140,
   "id": "05dd579d",
   "metadata": {},
   "outputs": [
    {
     "name": "stdout",
     "output_type": "stream",
     "text": [
      "[70 19 12 ... 70 30 46]\n",
      "La media de mi array es: 50.0202\n",
      "La desviación típica de mi array es: 28.69\n"
     ]
    }
   ],
   "source": [
    "array_ej13 = np.random.randint(1,100,10000)\n",
    "print(array_ej13)\n",
    "\n",
    "mean = np.mean(array_ej13)\n",
    "std = np.std(array_ej13)\n",
    "print(f'La media de mi array es: {mean}')\n",
    "print(f'La desviación típica de mi array es: {round(std,2)}')\n"
   ]
  },
  {
   "cell_type": "markdown",
   "id": "6add6669",
   "metadata": {},
   "source": [
    "#### Ejercicio 14 - Genera un array tridimensional de dimensiones (2, 3, 4) con valores enteros del 1 al 24.\n",
    "\n",
    "- Transpón el array para intercambiar los ejes de la forma (2, 3, 4) a (4, 3, 2).\n",
    "\n",
    "- Observa cómo cambian las posiciones de los elementos y sus índices después de la transposición. Explica en una celda de markdown que es lo que ha pasado. \n"
   ]
  },
  {
   "cell_type": "code",
   "execution_count": 143,
   "id": "ae98aca5",
   "metadata": {},
   "outputs": [
    {
     "name": "stdout",
     "output_type": "stream",
     "text": [
      "[[[19 13 20  8]\n",
      "  [ 6 13  9 13]\n",
      "  [12 12 21 21]]\n",
      "\n",
      " [[23 15 20 22]\n",
      "  [ 9  8  4  1]\n",
      "  [ 5 19 20 18]]]\n",
      "\n",
      "\n",
      "[[[19 23]\n",
      "  [ 6  9]\n",
      "  [12  5]]\n",
      "\n",
      " [[13 15]\n",
      "  [13  8]\n",
      "  [12 19]]\n",
      "\n",
      " [[20 20]\n",
      "  [ 9  4]\n",
      "  [21 20]]\n",
      "\n",
      " [[ 8 22]\n",
      "  [13  1]\n",
      "  [21 18]]]\n"
     ]
    }
   ],
   "source": [
    "array_ej14 = np.random.randint(1,25,(2,3,4))\n",
    "print(array_ej14)\n",
    "print(\"\\n\")\n",
    "print(np.transpose(array_ej14))"
   ]
  },
  {
   "cell_type": "markdown",
   "id": "006fd818",
   "metadata": {},
   "source": [
    " La función `np.transpose` intercambiar las dimensiones de un *array*. Toma como argumento un *array* y devuelve una nueva *array* con las dimensiones intercambiadas.\n",
    "En el caso de un array bidimensional cambia las filas por columnas, en el caso de un array tridimensional cambia las matrices por columnas y deja fijas las filas. De esta forma se reorganizan los elementos del array y así cambian las posiciones y los índices de los valores."
   ]
  },
  {
   "cell_type": "markdown",
   "id": "1e32b5e6",
   "metadata": {},
   "source": [
    "#### Ejercicio 15 - Genera un array tridimensional de dimensiones (3, 4, 2) con valores enteros del 1 al 24.\n",
    "\n",
    "- Transpón el array para intercambiar el primer y segundo eje, de manera que la nueva forma del array sea (4, 3, 2).\n"
   ]
  },
  {
   "cell_type": "code",
   "execution_count": 149,
   "id": "0146fdd6",
   "metadata": {},
   "outputs": [
    {
     "name": "stdout",
     "output_type": "stream",
     "text": [
      "[[[14 24]\n",
      "  [ 8  6]\n",
      "  [22 10]\n",
      "  [14 12]]\n",
      "\n",
      " [[19  9]\n",
      "  [19 10]\n",
      "  [22 14]\n",
      "  [23 19]]\n",
      "\n",
      " [[16  3]\n",
      "  [ 1  6]\n",
      "  [ 3 19]\n",
      "  [11 11]]]\n",
      "\n",
      "\n",
      "Resultado:\n",
      "[[[14 24]\n",
      "  [19  9]\n",
      "  [16  3]]\n",
      "\n",
      " [[ 8  6]\n",
      "  [19 10]\n",
      "  [ 1  6]]\n",
      "\n",
      " [[22 10]\n",
      "  [22 14]\n",
      "  [ 3 19]]\n",
      "\n",
      " [[14 12]\n",
      "  [23 19]\n",
      "  [11 11]]]\n"
     ]
    }
   ],
   "source": [
    "array_ej15 = np.random.randint(1,25, (3,4,2))\n",
    "print(array_ej15)\n",
    "print(\"\\n\")\n",
    "print(\"Resultado:\")\n",
    "print(np.swapaxes(array_ej15, 1,0))"
   ]
  },
  {
   "cell_type": "markdown",
   "id": "fcf92586",
   "metadata": {},
   "source": [
    "#### Ejercicio 16 - Genera un array tridimensional de dimensiones (3, 2, 4) con valores enteros del 1 al 24.\n",
    "\n",
    "- Realiza una rotación completa de los ejes para convertir la forma original (3, 2, 4) en (4, 3, 2).\n"
   ]
  },
  {
   "cell_type": "code",
   "execution_count": 151,
   "id": "dd2c7f27",
   "metadata": {},
   "outputs": [
    {
     "name": "stdout",
     "output_type": "stream",
     "text": [
      "[[[12 17  6 21]\n",
      "  [15 21  6  7]]\n",
      "\n",
      " [[ 6 16  3  7]\n",
      "  [ 7 21 22 18]]\n",
      "\n",
      " [[10 17  3  2]\n",
      "  [ 8  6 10 12]]]\n",
      "\n",
      "\n",
      "Resultado:\n",
      "[[[12 15]\n",
      "  [ 6  7]\n",
      "  [10  8]]\n",
      "\n",
      " [[17 21]\n",
      "  [16 21]\n",
      "  [17  6]]\n",
      "\n",
      " [[ 6  6]\n",
      "  [ 3 22]\n",
      "  [ 3 10]]\n",
      "\n",
      " [[21  7]\n",
      "  [ 7 18]\n",
      "  [ 2 12]]]\n"
     ]
    }
   ],
   "source": [
    "array_ej16 = np.random.randint(1,25, (3,2,4))\n",
    "traspuesta = np.transpose(array_ej16)\n",
    "cambio = np.swapaxes(traspuesta, 2,1)\n",
    "print(array_ej16)\n",
    "print(\"\\n\")\n",
    "print(\"Resultado:\")\n",
    "print(cambio)"
   ]
  },
  {
   "cell_type": "markdown",
   "id": "1795e11f",
   "metadata": {},
   "source": [
    "#### Ejercicio 17 - Manipulación de Arrays en 3D\n",
    "\n",
    "- Crea un array tridimensional con dimensiones (3, 4, 5) cuyos elementos sean números enteros aleatorios entre -10 y 10.\n",
    "\n",
    "- Crea un array vacío con la misma forma y dimensiones que el array creado anteriormente. Luego, reemplaza los valores de la matriz vacía basada en los valores del primer array bajo las siguientes condiciones:\n",
    "\n",
    "   - Si el valor es igual a la mediana, se reemplaza por `\"M\"`.\n",
    "\n",
    "   - Si el valor es mayor que la mediana, se reemplaza por `\"X\"`.\n",
    "\n",
    "   - Si el valor es menor que la mediana, se reemplaza por `\"Y\"`.\n",
    "\n",
    "   - Si el valor es igual al máximo, se reemplaza por `\"MAX\"`.\n",
    "\n",
    "   - Si el valor es igual al mínimo, se reemplaza por `\"MIN\"`.\n"
   ]
  },
  {
   "cell_type": "code",
   "execution_count": 167,
   "id": "d309b397",
   "metadata": {},
   "outputs": [
    {
     "name": "stdout",
     "output_type": "stream",
     "text": [
      "[[[  2   0  -9  -7   2]\n",
      "  [  0   3  -7   9  -1]\n",
      "  [  2   8  -2   5  -4]\n",
      "  [  3 -10   0   4  -8]]\n",
      "\n",
      " [[ -8   4   7   9 -10]\n",
      "  [-10  -1   5  -9  -7]\n",
      "  [  0   9  -9  -5   5]\n",
      "  [  7   1  -8  -3  -6]]\n",
      "\n",
      " [[ -6  -6 -10  10  -9]\n",
      "  [  9  -8  10   6  -1]\n",
      "  [ -4   8  -4 -10   3]\n",
      "  [ -2  -9  -7  -4   3]]]\n"
     ]
    }
   ],
   "source": [
    "array_ej17 = np.random.randint(-10,11, (3,4,5))\n",
    "print(array_ej17)\n"
   ]
  },
  {
   "cell_type": "code",
   "execution_count": 171,
   "id": "6795d2b5",
   "metadata": {},
   "outputs": [
    {
     "name": "stdout",
     "output_type": "stream",
     "text": [
      "Mediana: -1.0\n",
      "Máximo: 10\n",
      "Mínimo: -10\n"
     ]
    },
    {
     "data": {
      "text/plain": [
       "array([[['X', 'X', 'Y', 'Y', 'X'],\n",
       "        ['X', 'X', 'Y', 'X', 'M'],\n",
       "        ['X', 'X', 'Y', 'X', 'Y'],\n",
       "        ['X', 'MIN', 'X', 'X', 'Y']],\n",
       "\n",
       "       [['Y', 'X', 'X', 'X', 'MIN'],\n",
       "        ['MIN', 'M', 'X', 'Y', 'Y'],\n",
       "        ['X', 'X', 'Y', 'Y', 'X'],\n",
       "        ['X', 'X', 'Y', 'Y', 'Y']],\n",
       "\n",
       "       [['Y', 'Y', 'MIN', 'MAX', 'Y'],\n",
       "        ['X', 'Y', 'MAX', 'X', 'M'],\n",
       "        ['Y', 'X', 'Y', 'MIN', 'X'],\n",
       "        ['Y', 'Y', 'Y', 'Y', 'X']]], dtype='<U5')"
      ]
     },
     "execution_count": 171,
     "metadata": {},
     "output_type": "execute_result"
    }
   ],
   "source": [
    "array_vacio = np.empty((3,4,5), dtype='U5')\n",
    "\n",
    "mediana = np.median(array_ej17)\n",
    "max = np.max(array_ej17)\n",
    "min = np.min(array_ej17)\n",
    "print(f'Mediana: {mediana}')\n",
    "print(f'Máximo: {max}')\n",
    "print(f'Mínimo: {min}')\n",
    "\n",
    "array_vacio[array_ej17 == mediana]= \"M\"\n",
    "array_vacio[array_ej17 > mediana]= \"X\"\n",
    "array_vacio[array_ej17 < mediana]= \"Y\"\n",
    "array_vacio[array_ej17 == max]= \"MAX\"\n",
    "array_vacio[array_ej17 == min]= \"MIN\"\n",
    "\n",
    "array_vacio"
   ]
  },
  {
   "cell_type": "markdown",
   "id": "83794704",
   "metadata": {},
   "source": [
    "#### Ejercicio 18 - Verificación de Filas y Columnas Iguales\n",
    "\n",
    "Crea un array bidimensional de dimensiones 4x4, escribe un código para determinar si alguna fila es exactamente igual a alguna columna.\n",
    "\n",
    "**Reglas:**\n",
    "\n",
    "- No puedes usar funciones predefinidas de NumPy para comparar filas y columnas (`np.array_equal`, etc.).\n",
    "\n",
    "- Debes resolverlo con estructuras básicas de Python (bucles, condicionales, etc.).\n",
    "\n",
    "- Debes revisar si hay al menos una fila que coincida exactamente con alguna columna.\n",
    "\n",
    "**Pistas**:\n",
    "\n",
    "- Puedes recorrer cada fila y cada columna de la matriz usando bucles.\n",
    "\n",
    "- Para comparar una fila con una columna, puedes hacerlo elemento por elemento."
   ]
  },
  {
   "cell_type": "code",
   "execution_count": 248,
   "id": "afd51c60",
   "metadata": {},
   "outputs": [
    {
     "name": "stdout",
     "output_type": "stream",
     "text": [
      "[[2 2 1]\n",
      " [3 1 3]\n",
      " [1 3 3]]\n",
      "[[1 2 3]\n",
      " [3 1 1]\n",
      " [1 2 1]]\n"
     ]
    }
   ],
   "source": [
    "array_ej18 = np.random.randint(1,4, (3,3))\n",
    "print(array_ej18)\n",
    "\n",
    "array_ej18_true = np.array([[1,2,3],[3,1,1],[1,2,1]])\n",
    "print(array_ej18_true)"
   ]
  },
  {
   "cell_type": "code",
   "execution_count": 249,
   "id": "ee216c37",
   "metadata": {},
   "outputs": [
    {
     "name": "stdout",
     "output_type": "stream",
     "text": [
      "--------------------------------------\n",
      "Elemento:1\n",
      "(array([0, 1, 1, 2, 2]), array([0, 1, 2, 0, 2]))\n",
      "Indices columnas: [0]\n",
      "1\n",
      "-----------columnas---------\n",
      "Columna:0\n",
      "[1 3 1]\n",
      "Elemneto de la fila: 1\n",
      "Elemento de la columna: 1\n",
      "Elemneto de la fila: 2\n",
      "Elemento de la columna: 3\n",
      "\n",
      "--------------------------------------\n",
      "Elemento:3\n",
      "(array([0, 1]), array([2, 0]))\n",
      "Indices columnas: [0]\n",
      "1\n",
      "-----------columnas---------\n",
      "Columna:2\n",
      "[3 1 1]\n",
      "Elemneto de la fila: 3\n",
      "Elemento de la columna: 3\n",
      "Elemneto de la fila: 1\n",
      "Elemento de la columna: 1\n",
      "Elemneto de la fila: 1\n",
      "Elemento de la columna: 1\n"
     ]
    },
    {
     "data": {
      "text/plain": [
       "True"
      ]
     },
     "execution_count": 249,
     "metadata": {},
     "output_type": "execute_result"
    }
   ],
   "source": [
    "def buscar():\n",
    "    for fila in array_ej18:\n",
    "        \n",
    "        #Tomo el primer elemento y compruebo si hay algun otro en la matriz y ese otro está en la primera fila\n",
    "        elem = fila[0]\n",
    "        print(\"--------------------------------------\")\n",
    "        print(f'Elemento:{elem}')\n",
    "        # Compruebo si ese elemento está en la matriz\n",
    "        aux = np.where(array_ej18 == elem)\n",
    "        print(np.where(array_ej18 == elem))\n",
    "\n",
    "        # Si hay otro elemento igualen la matriz y esta en la primera fila continuo\n",
    "        if 0 in aux[0]:\n",
    "            # Tomo los indices de los 0 y compruebo que columnas son:\n",
    "            indices_columnas= np.where(aux[0]==0)[0]\n",
    "            print(f'Indices columnas: {indices_columnas}')\n",
    "            print(len(indices_columnas))\n",
    "            for ind in indices_columnas:\n",
    "                print(\"-----------columnas---------\")\n",
    "                columna = aux[1][ind]\n",
    "                print(f'Columna:{columna}')\n",
    "                print(array_ej18[:,columna])\n",
    "\n",
    "                i=0\n",
    "                flag=0\n",
    "                for elem_fila in fila:\n",
    "                    print(f'Elemneto de la fila: {elem_fila}')\n",
    "                    print(f'Elemento de la columna: {array_ej18[:,columna][i]}')\n",
    "                    if elem_fila != array_ej18[:,columna][i]:\n",
    "                        print()\n",
    "                        flag=1\n",
    "                        break\n",
    "                    else:\n",
    "                        i+=1\n",
    "                if flag ==0:\n",
    "                    return True\n",
    "\n",
    "        else:\n",
    "            print(\"Dentro\")\n",
    "            \n",
    "    print(\"Final\")\n",
    "    return False\n",
    "        \n",
    "buscar()"
   ]
  },
  {
   "cell_type": "code",
   "execution_count": null,
   "id": "0647fd37",
   "metadata": {},
   "outputs": [],
   "source": []
  }
 ],
 "metadata": {
  "kernelspec": {
   "display_name": "Python 3",
   "language": "python",
   "name": "python3"
  },
  "language_info": {
   "codemirror_mode": {
    "name": "ipython",
    "version": 3
   },
   "file_extension": ".py",
   "mimetype": "text/x-python",
   "name": "python",
   "nbconvert_exporter": "python",
   "pygments_lexer": "ipython3",
   "version": "3.12.4"
  }
 },
 "nbformat": 4,
 "nbformat_minor": 5
}
